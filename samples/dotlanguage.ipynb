{
  "cells": [
    {
      "cell_type": "code",
      "execution_count": null,
      "metadata": {
        "dotnet_interactive": {
          "language": "csharp"
        },
        "vscode": {
          "languageId": "dotnet-interactive.csharp"
        }
      },
      "outputs": [
        {
          "data": {
            "text/html": [
              "<div><div></div><div></div><div><strong>Installed Packages</strong><ul><li><span>DotLanguage.InteractiveExtension, 1.0.51</span></li></ul></div></div>"
            ]
          },
          "metadata": {},
          "output_type": "display_data"
        },
        {
          "data": {
            "text/markdown": [
              "Loading extensions from `DotLanguage.InteractiveExtension.dll`"
            ]
          },
          "metadata": {},
          "output_type": "display_data"
        },
        {
          "data": {
            "text/html": [
              "<details><summary>Draw networks using dot language.</summary>\r\n",
              "        <p>This extension adds support for <a href=\"https://www.graphviz.org/doc/info/lang.html\">dot language</a>. Try this code:</p>\r\n",
              "<pre>\r\n",
              "    <code>\r\n",
              "#!dot\r\n",
              "dinetwork {node[shape=circle]; 1 -> 1 -> 2; 2 -> 3; 2 -- 4; 2 -> 1 [style=dotted, width=3] }\r\n",
              "    </code>\r\n",
              "</pre>\r\n",
              "<p>Display size can be changed. Try this code:</p>\r\n",
              "<pre>\r\n",
              "    <code>\r\n",
              "#!dot --display-height 300px\r\n",
              "dinetwork {node[shape=circle]; 1 -> 1 -> 2; 2 -> 3; 2 -- 4; 2 -> 1 [style=dotted, width=3] }\r\n",
              "    </code>\r\n",
              "</pre>\r\n",
              "        </details>"
            ]
          },
          "metadata": {},
          "output_type": "display_data"
        }
      ],
      "source": [
        "#r \"nuget: DotLanguage.InteractiveExtension, *-*\""
      ]
    },
    {
      "cell_type": "code",
      "execution_count": null,
      "metadata": {
        "dotnet_interactive": {
          "language": "csharp"
        },
        "vscode": {
          "languageId": "dotnet-interactive.csharp"
        }
      },
      "outputs": [
        {
          "data": {
            "text/html": [
              "<div >\r\n",
              "<script type=\"text/javascript\">\r\n",
              "\r\n",
              "loadVisjs_e2c0a762e9914842bbe28767190c4eb0 = () => {\r\n",
              " \r\n",
              "        (require.config({ 'paths': { 'context': '1.0.0', 'visjs' : 'https://visjs.github.io/vis-network/standalone/umd/vis-network.min', 'urlArgs': 'cacheBuster=50e4e2ea1c034c3293c56a43f7839553' }}) || require)(['visjs'], (visjs) => {\r\n",
              "\r\n",
              "            let container = document.getElementById('e2c0a762e9914842bbe28767190c4eb0');\r\n",
              "            let dot = `graph ethane {\n",
              "    C_0 -- H_0 [type=s];\n",
              "    C_0 -- H_1 [type=s];\n",
              "    C_0 -- H_2 [type=s];\n",
              "    C_0 -- C_1 [type=s];\n",
              "    C_1 -- H_3 [type=s];\n",
              "    C_1 -- H_4 [type=s];\n",
              "    C_1 -- H_5 [type=s];\n",
              "}`;\r\n",
              "            let data = visjs.parseDOTNetwork(dot);\r\n",
              "            let network = new visjs.Network(container, data); \r\n",
              "        },\r\n",
              "        (error) => {\r\n",
              "            console.log(error);\r\n",
              "        });\r\n",
              "}\r\n",
              "// ensure `require` is available globally\r\n",
              "if ((typeof(require) !==  typeof(Function)) || (typeof(require.config) !== typeof(Function))) {\r\n",
              "    let require_script = document.createElement('script');\r\n",
              "    require_script.setAttribute('src', 'https://cdnjs.cloudflare.com/ajax/libs/require.js/2.3.6/require.min.js');\r\n",
              "    require_script.setAttribute('type', 'text/javascript');\r\n",
              "    \r\n",
              "    \r\n",
              "    require_script.onload = function() {\r\n",
              "        loadVisjs_e2c0a762e9914842bbe28767190c4eb0();\r\n",
              "    };\r\n",
              "\r\n",
              "    document.getElementsByTagName('head')[0].appendChild(require_script);\r\n",
              "}\r\n",
              "else {\r\n",
              "    loadVisjs_e2c0a762e9914842bbe28767190c4eb0();\r\n",
              "}\r\n",
              "\r\n",
              "</script>\r\n",
              "<div id=\"e2c0a762e9914842bbe28767190c4eb0\" style=\"height:600px; width:100%\"></div>\r\n",
              "</div>\r\n"
            ]
          },
          "metadata": {},
          "output_type": "display_data"
        }
      ],
      "source": [
        "#!dot\n",
        "graph ethane {\n",
        "    C_0 -- H_0 [type=s];\n",
        "    C_0 -- H_1 [type=s];\n",
        "    C_0 -- H_2 [type=s];\n",
        "    C_0 -- C_1 [type=s];\n",
        "    C_1 -- H_3 [type=s];\n",
        "    C_1 -- H_4 [type=s];\n",
        "    C_1 -- H_5 [type=s];\n",
        "}"
      ]
    },
    {
      "cell_type": "code",
      "execution_count": null,
      "metadata": {
        "dotnet_interactive": {
          "language": "csharp"
        },
        "vscode": {
          "languageId": "dotnet-interactive.csharp"
        }
      },
      "outputs": [
        {
          "data": {
            "text/html": [
              "<div >\r\n",
              "<script type=\"text/javascript\">\r\n",
              "\r\n",
              "loadVisjs_bbc0be8b6e984d7091925e41069302fc = () => {\r\n",
              " \r\n",
              "        (require.config({ 'paths': { 'context': '1.0.0', 'visjs' : 'https://visjs.github.io/vis-network/standalone/umd/vis-network.min', 'urlArgs': 'cacheBuster=50e4e2ea1c034c3293c56a43f7839553' }}) || require)(['visjs'], (visjs) => {\r\n",
              "\r\n",
              "            let container = document.getElementById('bbc0be8b6e984d7091925e41069302fc');\r\n",
              "            let dot = `dinetwork {node[shape=circle]; 1 -> 1 -> 2; 2 -> 3; 2 -- 4; 2 -> 1 [style=dotted, width=4] }`;\r\n",
              "            let data = visjs.parseDOTNetwork(dot);\r\n",
              "            let network = new visjs.Network(container, data); \r\n",
              "        },\r\n",
              "        (error) => {\r\n",
              "            console.log(error);\r\n",
              "        });\r\n",
              "}\r\n",
              "// ensure `require` is available globally\r\n",
              "if ((typeof(require) !==  typeof(Function)) || (typeof(require.config) !== typeof(Function))) {\r\n",
              "    let require_script = document.createElement('script');\r\n",
              "    require_script.setAttribute('src', 'https://cdnjs.cloudflare.com/ajax/libs/require.js/2.3.6/require.min.js');\r\n",
              "    require_script.setAttribute('type', 'text/javascript');\r\n",
              "    \r\n",
              "    \r\n",
              "    require_script.onload = function() {\r\n",
              "        loadVisjs_bbc0be8b6e984d7091925e41069302fc();\r\n",
              "    };\r\n",
              "\r\n",
              "    document.getElementsByTagName('head')[0].appendChild(require_script);\r\n",
              "}\r\n",
              "else {\r\n",
              "    loadVisjs_bbc0be8b6e984d7091925e41069302fc();\r\n",
              "}\r\n",
              "\r\n",
              "</script>\r\n",
              "<div id=\"bbc0be8b6e984d7091925e41069302fc\" style=\"height:200px; width:100%\"></div>\r\n",
              "</div>\r\n"
            ]
          },
          "metadata": {},
          "output_type": "display_data"
        }
      ],
      "source": [
        "#!dot --display-height=200px\n",
        "dinetwork {node[shape=circle]; 1 -> 1 -> 2; 2 -> 3; 2 -- 4; 2 -> 1 [style=dotted, width=4] }"
      ]
    }
  ],
  "metadata": {
    "kernelspec": {
      "display_name": ".NET (C#)",
      "language": "C#",
      "name": ".net-csharp"
    },
    "language_info": {
      "file_extension": ".cs",
      "mimetype": "text/x-csharp",
      "name": "C#",
      "pygments_lexer": "csharp",
      "version": "8.0"
    }
  },
  "nbformat": 4,
  "nbformat_minor": 4
}
