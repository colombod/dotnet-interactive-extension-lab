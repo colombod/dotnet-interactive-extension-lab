{
  "cells": [
    {
      "cell_type": "code",
      "execution_count": null,
      "metadata": {
        "dotnet_interactive": {
          "language": "csharp"
        },
        "vscode": {
          "languageId": "dotnet-interactive.csharp"
        }
      },
      "outputs": [
        {
          "data": {
            "text/html": [
              "<div><div><strong>Restore sources</strong><ul><li><span>D:\\Repos\\public\\dotnet-interactive-extension-lab\\packages</span></li></ul></div><div></div><div><strong>Installed Packages</strong><ul><li><span>DotLanguage.InteractiveExtension, 1.2.8</span></li></ul></div></div>"
            ]
          },
          "metadata": {},
          "output_type": "display_data"
        },
        {
          "data": {
            "text/markdown": [
              "Loading extensions from `DotLanguage.InteractiveExtension.dll`"
            ]
          },
          "metadata": {},
          "output_type": "display_data"
        },
        {
          "data": {
            "text/html": [
              "<details><summary>Draw networks using dot language.</summary>\r\n",
              "        <p>This extension adds support for <a href=\"https://www.graphviz.org/doc/info/lang.html\">dot language</a>. Try this code:</p>\r\n",
              "<pre>\r\n",
              "    <code>\r\n",
              "#!dot\r\n",
              "dinetwork {node[shape=circle]; 1 -> 1 -> 2; 2 -> 3; 2 -- 4; 2 -> 1 [style=dotted, width=3] }\r\n",
              "    </code>\r\n",
              "</pre>\r\n",
              "<p>Display size can be changed. Try this code:</p>\r\n",
              "<pre>\r\n",
              "    <code>\r\n",
              "#!dot --display-height 300px\r\n",
              "dinetwork {node[shape=circle]; 1 -> 1 -> 2; 2 -> 3; 2 -- 4; 2 -> 1 [style=dotted, width=3] }\r\n",
              "    </code>\r\n",
              "</pre>\r\n",
              "        </details>"
            ]
          },
          "metadata": {},
          "output_type": "display_data"
        }
      ],
      "source": [
        "#r \"nuget: DotLanguage.InteractiveExtension, *-*\""
      ]
    },
    {
      "cell_type": "code",
      "execution_count": null,
      "metadata": {
        "dotnet_interactive": {
          "language": "csharp"
        },
        "vscode": {
          "languageId": "dotnet-interactive.csharp"
        }
      },
      "outputs": [
        {
          "data": {
            "text/html": [
              "<div >\r\n",
              "<div id=\"a851510922d3421c8042dc3dad4b7c48\" style=\"height:600px; width:100%\"></div>\r\n",
              "<script type=\"text/javascript\" defer>\r\n",
              "\r\n",
              "loadHpcc_a851510922d3421c8042dc3dad4b7c48 = () => {\r\n",
              " \r\n",
              "        (require.config({ 'paths': { 'context': '1.14.1', 'hpcc' : 'https://cdn.jsdelivr.net/npm/@hpcc-js/wasm@1.14.1/dist/index.min', 'urlArgs': 'cacheBuster=e1a9ec35ac044ff9ab8b804a65d077c2' }}) || require)(['hpcc'], (hpcc) => {\r\n",
              "\r\n",
              "            let container = document.getElementById('a851510922d3421c8042dc3dad4b7c48');\r\n",
              "            let dot = `graph ethane {\n",
              "    C_0 -- H_0 [type=s];\n",
              "    C_0 -- H_1 [type=s];\n",
              "    C_0 -- H_2 [type=s];\n",
              "    C_0 -- C_1 [type=s];\n",
              "    C_1 -- H_3 [type=s];\n",
              "    C_1 -- H_4 [type=s];\n",
              "    C_1 -- H_5 [type=s];\n",
              "}`;\r\n",
              "            hpcc.wasmFolder(`https://cdn.jsdelivr.net/npm/@hpcc-js/wasm@1.14.1/dist`);\r\n",
              "            hpcc.graphviz.layout(dot, \"svg\", \"dot\").then(svg => { container.innerHTML = svg; });\r\n",
              "        },\r\n",
              "        (error) => {\r\n",
              "            console.log(error);\r\n",
              "        });\r\n",
              "}\r\n",
              "// ensure `require` is available globally\r\n",
              "if ((typeof(require) !==  typeof(Function)) || (typeof(require.config) !== typeof(Function))) {\r\n",
              "    let require_script = document.createElement('script');\r\n",
              "    require_script.setAttribute('src', 'https://cdnjs.cloudflare.com/ajax/libs/require.js/2.3.6/require.min.js');\r\n",
              "    require_script.setAttribute('type', 'text/javascript');\r\n",
              "    \r\n",
              "    \r\n",
              "    require_script.onload = function() {\r\n",
              "        loadHpcc_a851510922d3421c8042dc3dad4b7c48();\r\n",
              "    };\r\n",
              "\r\n",
              "    document.getElementsByTagName('head')[0].appendChild(require_script);\r\n",
              "}\r\n",
              "else {\r\n",
              "    loadHpcc_a851510922d3421c8042dc3dad4b7c48();\r\n",
              "}\r\n",
              "\r\n",
              "</script>\r\n",
              "</div>\r\n"
            ]
          },
          "metadata": {},
          "output_type": "display_data"
        }
      ],
      "source": [
        "#!dot\n",
        "graph ethane {\n",
        "    C_0 -- H_0 [type=s];\n",
        "    C_0 -- H_1 [type=s];\n",
        "    C_0 -- H_2 [type=s];\n",
        "    C_0 -- C_1 [type=s];\n",
        "    C_1 -- H_3 [type=s];\n",
        "    C_1 -- H_4 [type=s];\n",
        "    C_1 -- H_5 [type=s];\n",
        "}"
      ]
    },
    {
      "cell_type": "code",
      "execution_count": null,
      "metadata": {
        "dotnet_interactive": {
          "language": "csharp"
        },
        "vscode": {
          "languageId": "dotnet-interactive.csharp"
        }
      },
      "outputs": [
        {
          "data": {
            "text/html": [
              "<div >\r\n",
              "<div id=\"a159ee8657364a2abac31570bb077b86\" style=\"height:600px; width:400px\"></div>\r\n",
              "<script type=\"text/javascript\" defer>\r\n",
              "\r\n",
              "loadHpcc_a159ee8657364a2abac31570bb077b86 = () => {\r\n",
              " \r\n",
              "        (require.config({ 'paths': { 'context': '1.14.1', 'hpcc' : 'https://cdn.jsdelivr.net/npm/@hpcc-js/wasm@1.14.1/dist/index.min', 'urlArgs': 'cacheBuster=e1a9ec35ac044ff9ab8b804a65d077c2' }}) || require)(['hpcc'], (hpcc) => {\r\n",
              "\r\n",
              "            let container = document.getElementById('a159ee8657364a2abac31570bb077b86');\r\n",
              "            let dot = `graph {    \r\n",
              "    bgcolor= transparent;\r\n",
              "    node [color=white] \r\n",
              "    a -- b[color=red,penwidth=3.0];\r\n",
              "    b -- c;\r\n",
              "    c -- d[color=red,penwidth=3.0];\r\n",
              "    d -- e;\r\n",
              "    e -- f;\r\n",
              "    a -- d;\r\n",
              "    b -- d[color=red,penwidth=3.0];\r\n",
              "    c -- f[color=red,penwidth=3.0];\r\n",
              "}`;\r\n",
              "            hpcc.wasmFolder(`https://cdn.jsdelivr.net/npm/@hpcc-js/wasm@1.14.1/dist`);\r\n",
              "            hpcc.graphviz.layout(dot, \"svg\", \"dot\").then(svg => { container.innerHTML = svg; });\r\n",
              "        },\r\n",
              "        (error) => {\r\n",
              "            console.log(error);\r\n",
              "        });\r\n",
              "}\r\n",
              "// ensure `require` is available globally\r\n",
              "if ((typeof(require) !==  typeof(Function)) || (typeof(require.config) !== typeof(Function))) {\r\n",
              "    let require_script = document.createElement('script');\r\n",
              "    require_script.setAttribute('src', 'https://cdnjs.cloudflare.com/ajax/libs/require.js/2.3.6/require.min.js');\r\n",
              "    require_script.setAttribute('type', 'text/javascript');\r\n",
              "    \r\n",
              "    \r\n",
              "    require_script.onload = function() {\r\n",
              "        loadHpcc_a159ee8657364a2abac31570bb077b86();\r\n",
              "    };\r\n",
              "\r\n",
              "    document.getElementsByTagName('head')[0].appendChild(require_script);\r\n",
              "}\r\n",
              "else {\r\n",
              "    loadHpcc_a159ee8657364a2abac31570bb077b86();\r\n",
              "}\r\n",
              "\r\n",
              "</script>\r\n",
              "</div>\r\n"
            ]
          },
          "metadata": {},
          "output_type": "display_data"
        }
      ],
      "source": [
        "#!dot --display-width 400px\n",
        "graph {    \n",
        "    bgcolor= transparent;\n",
        "    node [color=white] \n",
        "    a -- b[color=red,penwidth=3.0];\n",
        "    b -- c;\n",
        "    c -- d[color=red,penwidth=3.0];\n",
        "    d -- e;\n",
        "    e -- f;\n",
        "    a -- d;\n",
        "    b -- d[color=red,penwidth=3.0];\n",
        "    c -- f[color=red,penwidth=3.0];\n",
        "}"
      ]
    }
  ],
  "metadata": {
    "kernelspec": {
      "display_name": ".NET (C#)",
      "language": "C#",
      "name": ".net-csharp"
    },
    "language_info": {
      "file_extension": ".cs",
      "mimetype": "text/x-csharp",
      "name": "C#",
      "pygments_lexer": "csharp",
      "version": "8.0"
    }
  },
  "nbformat": 4,
  "nbformat_minor": 4
}
